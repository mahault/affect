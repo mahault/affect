{
 "cells": [
  {
   "cell_type": "markdown",
   "metadata": {},
   "source": [
    "This demonstration is designed to monitor the emotional dynamics of an agent as it navigates through the task of locating its wallet within a domestic setting. The core of this demonstration is the deployment of an emotional inference framework, structured as a hierarchical active inference model. This model is bifurcated into two distinct levels: the foundational level, where the agent is engaged in the practical task of wallet retrieval, and the elevated \"hier\" level (a nomenclature chosen to indulge in a pun), which is tasked with performing emotional analysis based on the lower level's activities.\n",
    "\n",
    "Additionally, we introduce a baseline scenario, termed the wallet-finding-only task, which operates without the integration of the emotional inference system. This scenario serves as a control to contrast against the comprehensive emotional-wallet-finding task, thereby facilitating a comparative analysis of the two approaches."
   ]
  },
  {
   "cell_type": "code",
   "execution_count": 4,
   "metadata": {},
   "outputs": [],
   "source": [
    "# !pip install inferactively-pymdp\n",
    "import os\n",
    "import sys\n",
    "import pathlib\n",
    "import numpy as np \n",
    "import seaborn as sns\n",
    "import copy\n",
    "import matplotlib.pyplot as plt\n",
    "import networkx\n",
    "import typing\n",
    "import shutil\n",
    "import keyfunctions\n",
    "import pymdp\n",
    "import csv\n",
    "import pymdp.maths as mdpmaths\n",
    "from pymdp import utils \n",
    "from pymdp import maths\n",
    "from pymdp.agent import Agent"
   ]
  },
  {
   "cell_type": "code",
   "execution_count": 6,
   "metadata": {},
   "outputs": [],
   "source": [
    "# defining the graph (environment) and generative process\n",
    "# graph, meta = demofunctions.generate_connected_clusters(5,4)\n",
    "graph, meta = keyfunctions.house(5,4)\n",
    "\n",
    "# adding information to the metadata\n",
    "meta[\"detect_wallet\"] = [\"present\", \"absent\"]\n",
    "meta[\"BR_level\"] = [\"normal_BR\", \"high_BR\"]\n",
    "meta[\"surprise_level\"] = [\"low_surprise\", \"normal_surprise\", \"high_surprise\"]\n",
    "meta[\"BRV_level\"] = [\"normal_BRV\", \"high_BRV\"]"
   ]
  },
  {
   "cell_type": "code",
   "execution_count": null,
   "metadata": {},
   "outputs": [],
   "source": []
  }
 ],
 "metadata": {
  "kernelspec": {
   "display_name": "Python 3",
   "language": "python",
   "name": "python3"
  },
  "language_info": {
   "codemirror_mode": {
    "name": "ipython",
    "version": 3
   },
   "file_extension": ".py",
   "mimetype": "text/x-python",
   "name": "python",
   "nbconvert_exporter": "python",
   "pygments_lexer": "ipython3",
   "version": "3.10.4"
  }
 },
 "nbformat": 4,
 "nbformat_minor": 2
}
